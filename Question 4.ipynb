{
 "cells": [
  {
   "cell_type": "code",
   "execution_count": 5,
   "id": "48672e5c",
   "metadata": {},
   "outputs": [
    {
     "name": "stdout",
     "output_type": "stream",
     "text": [
      "The Even elements are:\n",
      "56 44 90 124 \n",
      "The Odd elements are:\n",
      "799 "
     ]
    }
   ],
   "source": [
    "\n",
    "        int[] arr = new int[5] { 56, 44, 90, 124, 799 };\n",
    "        int[] evenArray = new int[5];\n",
    "        int[] oddArray = new int[5];\n",
    "\n",
    "        int evenIndex = 0;\n",
    "        int oddIndex = 0;\n",
    "\n",
    "        for (int i = 0; i < arr.Length; i++)\n",
    "        {\n",
    "            if (arr[i] % 2 == 0)\n",
    "            {\n",
    "                evenArray[evenIndex] = arr[i];\n",
    "                evenIndex++;\n",
    "            }\n",
    "            else\n",
    "            {\n",
    "                oddArray[oddIndex] = arr[i];\n",
    "                oddIndex++;\n",
    "            }\n",
    "        }\n",
    "\n",
    "        Console.WriteLine(\"The Even elements are:\");\n",
    "        for (int i = 0; i < evenIndex; i++)\n",
    "        {\n",
    "            Console.Write(\"{0} \", evenArray[i]);\n",
    "        }\n",
    "\n",
    "        Console.WriteLine(\"\\nThe Odd elements are:\");\n",
    "        for (int i = 0; i < oddIndex; i++)\n",
    "        {\n",
    "            Console.Write(\"{0} \", oddArray[i]);\n",
    "        }\n",
    "\n",
    "        // Wait for user input before closing the console window\n",
    "        Console.ReadLine();"
   ]
  },
  {
   "cell_type": "code",
   "execution_count": null,
   "id": "05498830",
   "metadata": {},
   "outputs": [],
   "source": []
  }
 ],
 "metadata": {
  "kernelspec": {
   "display_name": ".NET (C#)",
   "language": "C#",
   "name": ".net-csharp"
  },
  "language_info": {
   "file_extension": ".cs",
   "mimetype": "text/x-csharp",
   "name": "C#",
   "pygments_lexer": "csharp",
   "version": "11.0"
  }
 },
 "nbformat": 4,
 "nbformat_minor": 5
}
